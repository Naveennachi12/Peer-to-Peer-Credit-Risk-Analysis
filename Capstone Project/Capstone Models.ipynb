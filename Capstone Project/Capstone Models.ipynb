{
 "cells": [
  {
   "cell_type": "code",
   "execution_count": 1,
   "id": "0ea50fef",
   "metadata": {},
   "outputs": [],
   "source": [
    "import pandas as pd\n",
    "import numpy as np\n",
    "import seaborn as sns\n",
    "import matplotlib.pyplot as plt\n",
    "plt.rcParams['figure.figsize']=[15,10]\n",
    "\n",
    "import warnings\n",
    "warnings.filterwarnings(\"ignore\")\n",
    "import statistics\n",
    "import scipy\n",
    "from scipy import stats\n",
    "from scipy.stats import chi2_contingency,ttest_ind\n",
    "from scipy.stats import chi2\n",
    "from scipy.stats import chisquare\n",
    "from sklearn.model_selection import train_test_split\n",
    "\n",
    "\n",
    "# import StandardScaler to perform scaling\n",
    "from sklearn.preprocessing import OrdinalEncoder,LabelEncoder,StandardScaler\n",
    "\n",
    "# import various functions from statsmodels\n",
    "import statsmodels\n",
    "import statsmodels.api as sm\n",
    "\n",
    "\n",
    "from sklearn.linear_model import LogisticRegression\n",
    "from sklearn.metrics import accuracy_score,roc_auc_score,roc_curve,recall_score,f1_score,precision_score,confusion_matrix,classification_report\n",
    "from sklearn.metrics import ConfusionMatrixDisplay\n",
    "\n",
    "from sklearn.tree import DecisionTreeClassifier\n",
    "from sklearn.ensemble import RandomForestClassifier,GradientBoostingClassifier,AdaBoostClassifier\n",
    "from sklearn.model_selection import GridSearchCV,KFold\n",
    "\n",
    "from sklearn.neighbors import KNeighborsClassifier\n",
    "from sklearn.naive_bayes import GaussianNB\n",
    "from sklearn.ensemble import StackingClassifier\n",
    "\n",
    "from xgboost import XGBClassifier\n",
    "from sklearn.feature_selection import RFE"
   ]
  },
  {
   "cell_type": "code",
   "execution_count": 2,
   "id": "3011321c",
   "metadata": {},
   "outputs": [
    {
     "data": {
      "text/html": [
       "<div>\n",
       "<style scoped>\n",
       "    .dataframe tbody tr th:only-of-type {\n",
       "        vertical-align: middle;\n",
       "    }\n",
       "\n",
       "    .dataframe tbody tr th {\n",
       "        vertical-align: top;\n",
       "    }\n",
       "\n",
       "    .dataframe thead th {\n",
       "        text-align: right;\n",
       "    }\n",
       "</style>\n",
       "<table border=\"1\" class=\"dataframe\">\n",
       "  <thead>\n",
       "    <tr style=\"text-align: right;\">\n",
       "      <th></th>\n",
       "      <th>grade</th>\n",
       "      <th>loan_status</th>\n",
       "      <th>term_ 60 months</th>\n",
       "      <th>verification_status_Source Verified</th>\n",
       "      <th>verification_status_Verified</th>\n",
       "      <th>application_type_INDIVIDUAL</th>\n",
       "      <th>application_type_JOINT</th>\n",
       "      <th>home_ownership_OTHERS</th>\n",
       "      <th>home_ownership_OWN</th>\n",
       "      <th>home_ownership_RENT</th>\n",
       "      <th>...</th>\n",
       "      <th>installment</th>\n",
       "      <th>annual_inc</th>\n",
       "      <th>dti</th>\n",
       "      <th>open_acc</th>\n",
       "      <th>pub_rec</th>\n",
       "      <th>revol_bal</th>\n",
       "      <th>revol_util</th>\n",
       "      <th>total_acc</th>\n",
       "      <th>mort_acc</th>\n",
       "      <th>pub_rec_bankruptcies</th>\n",
       "    </tr>\n",
       "  </thead>\n",
       "  <tbody>\n",
       "    <tr>\n",
       "      <th>0</th>\n",
       "      <td>1.0</td>\n",
       "      <td>0</td>\n",
       "      <td>0</td>\n",
       "      <td>0</td>\n",
       "      <td>0</td>\n",
       "      <td>1</td>\n",
       "      <td>0</td>\n",
       "      <td>0</td>\n",
       "      <td>0</td>\n",
       "      <td>1</td>\n",
       "      <td>...</td>\n",
       "      <td>-0.416548</td>\n",
       "      <td>1.343573</td>\n",
       "      <td>1.082947</td>\n",
       "      <td>0.978398</td>\n",
       "      <td>0.0</td>\n",
       "      <td>1.962487</td>\n",
       "      <td>-0.519393</td>\n",
       "      <td>0.012913</td>\n",
       "      <td>-1.312751</td>\n",
       "      <td>0.0</td>\n",
       "    </tr>\n",
       "    <tr>\n",
       "      <th>1</th>\n",
       "      <td>1.0</td>\n",
       "      <td>0</td>\n",
       "      <td>0</td>\n",
       "      <td>0</td>\n",
       "      <td>0</td>\n",
       "      <td>1</td>\n",
       "      <td>0</td>\n",
       "      <td>0</td>\n",
       "      <td>0</td>\n",
       "      <td>0</td>\n",
       "      <td>...</td>\n",
       "      <td>-0.674239</td>\n",
       "      <td>-0.148603</td>\n",
       "      <td>0.564184</td>\n",
       "      <td>1.181469</td>\n",
       "      <td>0.0</td>\n",
       "      <td>0.497493</td>\n",
       "      <td>-0.051272</td>\n",
       "      <td>0.186740</td>\n",
       "      <td>0.761759</td>\n",
       "      <td>0.0</td>\n",
       "    </tr>\n",
       "    <tr>\n",
       "      <th>2</th>\n",
       "      <td>1.0</td>\n",
       "      <td>0</td>\n",
       "      <td>0</td>\n",
       "      <td>1</td>\n",
       "      <td>0</td>\n",
       "      <td>1</td>\n",
       "      <td>0</td>\n",
       "      <td>0</td>\n",
       "      <td>0</td>\n",
       "      <td>1</td>\n",
       "      <td>...</td>\n",
       "      <td>0.300342</td>\n",
       "      <td>-0.778273</td>\n",
       "      <td>-0.582295</td>\n",
       "      <td>0.369188</td>\n",
       "      <td>0.0</td>\n",
       "      <td>-0.237260</td>\n",
       "      <td>1.532197</td>\n",
       "      <td>0.099826</td>\n",
       "      <td>-1.312751</td>\n",
       "      <td>0.0</td>\n",
       "    </tr>\n",
       "    <tr>\n",
       "      <th>3</th>\n",
       "      <td>0.0</td>\n",
       "      <td>0</td>\n",
       "      <td>0</td>\n",
       "      <td>0</td>\n",
       "      <td>0</td>\n",
       "      <td>1</td>\n",
       "      <td>0</td>\n",
       "      <td>0</td>\n",
       "      <td>0</td>\n",
       "      <td>1</td>\n",
       "      <td>...</td>\n",
       "      <td>-0.856117</td>\n",
       "      <td>-0.464256</td>\n",
       "      <td>-1.843916</td>\n",
       "      <td>-1.052303</td>\n",
       "      <td>0.0</td>\n",
       "      <td>-0.825044</td>\n",
       "      <td>-1.345728</td>\n",
       "      <td>-1.030046</td>\n",
       "      <td>-1.312751</td>\n",
       "      <td>0.0</td>\n",
       "    </tr>\n",
       "    <tr>\n",
       "      <th>4</th>\n",
       "      <td>2.0</td>\n",
       "      <td>1</td>\n",
       "      <td>1</td>\n",
       "      <td>0</td>\n",
       "      <td>1</td>\n",
       "      <td>1</td>\n",
       "      <td>0</td>\n",
       "      <td>0</td>\n",
       "      <td>0</td>\n",
       "      <td>0</td>\n",
       "      <td>...</td>\n",
       "      <td>0.713779</td>\n",
       "      <td>-0.435560</td>\n",
       "      <td>2.037520</td>\n",
       "      <td>0.369188</td>\n",
       "      <td>0.0</td>\n",
       "      <td>0.899243</td>\n",
       "      <td>0.620379</td>\n",
       "      <td>1.577352</td>\n",
       "      <td>0.761759</td>\n",
       "      <td>0.0</td>\n",
       "    </tr>\n",
       "  </tbody>\n",
       "</table>\n",
       "<p>5 rows × 37 columns</p>\n",
       "</div>"
      ],
      "text/plain": [
       "   grade  loan_status  term_ 60 months  verification_status_Source Verified  \\\n",
       "0    1.0            0                0                                    0   \n",
       "1    1.0            0                0                                    0   \n",
       "2    1.0            0                0                                    1   \n",
       "3    0.0            0                0                                    0   \n",
       "4    2.0            1                1                                    0   \n",
       "\n",
       "   verification_status_Verified  application_type_INDIVIDUAL  \\\n",
       "0                             0                            1   \n",
       "1                             0                            1   \n",
       "2                             0                            1   \n",
       "3                             0                            1   \n",
       "4                             1                            1   \n",
       "\n",
       "   application_type_JOINT  home_ownership_OTHERS  home_ownership_OWN  \\\n",
       "0                       0                      0                   0   \n",
       "1                       0                      0                   0   \n",
       "2                       0                      0                   0   \n",
       "3                       0                      0                   0   \n",
       "4                       0                      0                   0   \n",
       "\n",
       "   home_ownership_RENT  ...  installment  annual_inc       dti  open_acc  \\\n",
       "0                    1  ...    -0.416548    1.343573  1.082947  0.978398   \n",
       "1                    0  ...    -0.674239   -0.148603  0.564184  1.181469   \n",
       "2                    1  ...     0.300342   -0.778273 -0.582295  0.369188   \n",
       "3                    1  ...    -0.856117   -0.464256 -1.843916 -1.052303   \n",
       "4                    0  ...     0.713779   -0.435560  2.037520  0.369188   \n",
       "\n",
       "   pub_rec  revol_bal  revol_util  total_acc  mort_acc  pub_rec_bankruptcies  \n",
       "0      0.0   1.962487   -0.519393   0.012913 -1.312751                   0.0  \n",
       "1      0.0   0.497493   -0.051272   0.186740  0.761759                   0.0  \n",
       "2      0.0  -0.237260    1.532197   0.099826 -1.312751                   0.0  \n",
       "3      0.0  -0.825044   -1.345728  -1.030046 -1.312751                   0.0  \n",
       "4      0.0   0.899243    0.620379   1.577352  0.761759                   0.0  \n",
       "\n",
       "[5 rows x 37 columns]"
      ]
     },
     "execution_count": 2,
     "metadata": {},
     "output_type": "execute_result"
    }
   ],
   "source": [
    "dfc=pd.read_csv('df_clean22')\n",
    "dfc.head()"
   ]
  },
  {
   "cell_type": "code",
   "execution_count": 3,
   "id": "4e191913",
   "metadata": {},
   "outputs": [
    {
     "data": {
      "text/plain": [
       "(325733, 37)"
      ]
     },
     "execution_count": 3,
     "metadata": {},
     "output_type": "execute_result"
    }
   ],
   "source": [
    "dfc.shape"
   ]
  },
  {
   "cell_type": "code",
   "execution_count": 4,
   "id": "d300e7b2",
   "metadata": {},
   "outputs": [],
   "source": [
    "df2_feature=dfc.drop(['loan_status','pub_rec','pub_rec_bankruptcies'],axis=1)\n",
    "df2_target=dfc['loan_status']"
   ]
  },
  {
   "cell_type": "code",
   "execution_count": 5,
   "id": "4feb4030",
   "metadata": {},
   "outputs": [],
   "source": [
    "x=df2_feature\n",
    "y=df2_target"
   ]
  },
  {
   "cell_type": "code",
   "execution_count": 6,
   "id": "f4d8db4c",
   "metadata": {},
   "outputs": [
    {
     "name": "stdout",
     "output_type": "stream",
     "text": [
      "x_train (228013, 34)\n",
      "x_test (97720, 34)\n",
      "y_train (228013,)\n",
      "y_test (97720,)\n"
     ]
    }
   ],
   "source": [
    "x_train,x_test,y_train,y_test=train_test_split(df2_feature,df2_target,test_size=0.3,random_state=42)\n",
    "print('x_train',x_train.shape)\n",
    "print('x_test',x_test.shape)\n",
    "print('y_train',y_train.shape)\n",
    "print('y_test',y_test.shape)"
   ]
  },
  {
   "cell_type": "code",
   "execution_count": 7,
   "id": "dd0b7282",
   "metadata": {},
   "outputs": [
    {
     "name": "stdout",
     "output_type": "stream",
     "text": [
      "Fiiting Model....... Logestic Regression\n",
      "Fiiting Model....... KNeighborsClassifier\n",
      "Fiiting Model....... GaussianNB\n",
      "Fiiting Model....... Decision Tree\n",
      "Fiiting Model....... Random Forest\n",
      "Fiiting Model....... Ada Boost\n",
      "Fiiting Model....... Gradient Boost\n",
      "Fiiting Model....... XG Boost\n"
     ]
    },
    {
     "data": {
      "text/html": [
       "<div>\n",
       "<style scoped>\n",
       "    .dataframe tbody tr th:only-of-type {\n",
       "        vertical-align: middle;\n",
       "    }\n",
       "\n",
       "    .dataframe tbody tr th {\n",
       "        vertical-align: top;\n",
       "    }\n",
       "\n",
       "    .dataframe thead th {\n",
       "        text-align: right;\n",
       "    }\n",
       "</style>\n",
       "<table border=\"1\" class=\"dataframe\">\n",
       "  <thead>\n",
       "    <tr style=\"text-align: right;\">\n",
       "      <th></th>\n",
       "      <th>model_name</th>\n",
       "      <th>roc_auc</th>\n",
       "      <th>accuracy</th>\n",
       "      <th>recall</th>\n",
       "      <th>precission</th>\n",
       "      <th>f1_score</th>\n",
       "    </tr>\n",
       "  </thead>\n",
       "  <tbody>\n",
       "    <tr>\n",
       "      <th>2</th>\n",
       "      <td>GaussianNB</td>\n",
       "      <td>0.6184</td>\n",
       "      <td>0.727118</td>\n",
       "      <td>0.440019</td>\n",
       "      <td>0.344423</td>\n",
       "      <td>0.386396</td>\n",
       "    </tr>\n",
       "    <tr>\n",
       "      <th>3</th>\n",
       "      <td>Decision Tree</td>\n",
       "      <td>0.551922</td>\n",
       "      <td>0.707644</td>\n",
       "      <td>0.296421</td>\n",
       "      <td>0.271923</td>\n",
       "      <td>0.283644</td>\n",
       "    </tr>\n",
       "    <tr>\n",
       "      <th>1</th>\n",
       "      <td>KNeighborsClassifier</td>\n",
       "      <td>0.548641</td>\n",
       "      <td>0.781355</td>\n",
       "      <td>0.166815</td>\n",
       "      <td>0.367934</td>\n",
       "      <td>0.229554</td>\n",
       "    </tr>\n",
       "    <tr>\n",
       "      <th>7</th>\n",
       "      <td>XG Boost</td>\n",
       "      <td>0.538228</td>\n",
       "      <td>0.806918</td>\n",
       "      <td>0.097374</td>\n",
       "      <td>0.530403</td>\n",
       "      <td>0.164541</td>\n",
       "    </tr>\n",
       "    <tr>\n",
       "      <th>0</th>\n",
       "      <td>Logestic Regression</td>\n",
       "      <td>0.531447</td>\n",
       "      <td>0.806386</td>\n",
       "      <td>0.080342</td>\n",
       "      <td>0.527711</td>\n",
       "      <td>0.139452</td>\n",
       "    </tr>\n",
       "    <tr>\n",
       "      <th>4</th>\n",
       "      <td>Random Forest</td>\n",
       "      <td>0.531565</td>\n",
       "      <td>0.806703</td>\n",
       "      <td>0.080132</td>\n",
       "      <td>0.533496</td>\n",
       "      <td>0.139336</td>\n",
       "    </tr>\n",
       "    <tr>\n",
       "      <th>5</th>\n",
       "      <td>Ada Boost</td>\n",
       "      <td>0.525094</td>\n",
       "      <td>0.806222</td>\n",
       "      <td>0.063833</td>\n",
       "      <td>0.531646</td>\n",
       "      <td>0.113981</td>\n",
       "    </tr>\n",
       "    <tr>\n",
       "      <th>6</th>\n",
       "      <td>Gradient Boost</td>\n",
       "      <td>0.525502</td>\n",
       "      <td>0.807388</td>\n",
       "      <td>0.062995</td>\n",
       "      <td>0.560373</td>\n",
       "      <td>0.113257</td>\n",
       "    </tr>\n",
       "  </tbody>\n",
       "</table>\n",
       "</div>"
      ],
      "text/plain": [
       "             model_name   roc_auc  accuracy    recall precission  f1_score\n",
       "2            GaussianNB    0.6184  0.727118  0.440019   0.344423  0.386396\n",
       "3         Decision Tree  0.551922  0.707644  0.296421   0.271923  0.283644\n",
       "1  KNeighborsClassifier  0.548641  0.781355  0.166815   0.367934  0.229554\n",
       "7              XG Boost  0.538228  0.806918  0.097374   0.530403  0.164541\n",
       "0   Logestic Regression  0.531447  0.806386  0.080342   0.527711  0.139452\n",
       "4         Random Forest  0.531565  0.806703  0.080132   0.533496  0.139336\n",
       "5             Ada Boost  0.525094  0.806222  0.063833   0.531646  0.113981\n",
       "6        Gradient Boost  0.525502  0.807388  0.062995   0.560373  0.113257"
      ]
     },
     "execution_count": 7,
     "metadata": {},
     "output_type": "execute_result"
    }
   ],
   "source": [
    "clfs={'Logestic Regression':LogisticRegression(),\n",
    "     'KNeighborsClassifier':KNeighborsClassifier(),\n",
    "     'GaussianNB':GaussianNB(),\n",
    "     'Decision Tree':DecisionTreeClassifier(),\n",
    "     'Random Forest':RandomForestClassifier(),\n",
    "     'Ada Boost':AdaBoostClassifier(),\n",
    "     'Gradient Boost':GradientBoostingClassifier(),\n",
    "     'XG Boost':XGBClassifier()}\n",
    "\n",
    "model=pd.DataFrame(columns=['model_name','roc_auc','accuracy','recall','precission','f1_score'])\n",
    "for clf,clfs_name in list(zip(clfs.values(),clfs.keys())):\n",
    "    clf.fit(x_train,y_train)\n",
    "    y_pred=clf.predict(x_test)\n",
    "    print(\"Fiiting Model.......\",clfs_name)\n",
    "    t={'model_name':clfs_name,\n",
    "      'roc_auc':roc_auc_score(y_test,y_pred),\n",
    "      'accuracy':accuracy_score(y_test,y_pred),\n",
    "      'recall':recall_score(y_test,y_pred),\n",
    "      'precission':precision_score(y_test,y_pred),\n",
    "      'f1_score':f1_score(y_test,y_pred)}\n",
    "    model=model.append(t,ignore_index=True)\n",
    "\n",
    "model=model.sort_values('f1_score',ascending=False)\n",
    "model"
   ]
  },
  {
   "cell_type": "code",
   "execution_count": null,
   "id": "ec2d51f2",
   "metadata": {},
   "outputs": [],
   "source": [
    "# here we got GaussianNB, DecisionTree and KNeighborsClassifier are the top 3 models "
   ]
  },
  {
   "cell_type": "code",
   "execution_count": 7,
   "id": "18d13920",
   "metadata": {},
   "outputs": [],
   "source": [
    "def get_train_report(model,x_train):\n",
    "    \n",
    "    train_pred = model.predict(x_train)\n",
    "\n",
    "    # return the performace measures on train set\n",
    "    return(classification_report(y_train, train_pred))"
   ]
  },
  {
   "cell_type": "code",
   "execution_count": 8,
   "id": "bca55cbe",
   "metadata": {},
   "outputs": [],
   "source": [
    "def get_test_report(model,x_test):\n",
    "    \n",
    "    test_pred = model.predict(x_test)\n",
    "\n",
    "    # return the performace measures on test set\n",
    "    return(classification_report(y_test, test_pred))"
   ]
  },
  {
   "cell_type": "code",
   "execution_count": 9,
   "id": "3061e995",
   "metadata": {},
   "outputs": [],
   "source": [
    "def plot_roc(model, test_data):\n",
    "    \n",
    "\n",
    "    y_pred_prob = model.predict_proba(test_data)[:,1]\n",
    "    \n",
    "   \n",
    "    fpr, tpr, thresholds = roc_curve(y_test, y_pred_prob)\n",
    "\n",
    "    # plot the ROC curve\n",
    "    plt.plot(fpr, tpr)\n",
    "\n",
    "    # set limits for x and y axes\n",
    "    plt.xlim([0.0, 1.0])\n",
    "    plt.ylim([0.0, 1.0])\n",
    "\n",
    "    # plot the straight line showing worst prediction for the model\n",
    "    plt.plot([0, 1], [0, 1],'r--')\n",
    "\n",
    "    plt.title('ROC curve', fontsize = 15)\n",
    "    plt.xlabel('False positive rate (1-Specificity)', fontsize = 15)\n",
    "    plt.ylabel('True positive rate (Sensitivity)', fontsize = 15)\n",
    "\n",
    "   \n",
    "    plt.text(x = 0.02, y = 0.9, s = ('AUC Score:',round(roc_auc_score(y_test, y_pred_prob),4)))\n",
    "\n",
    "    # plot the grid\n",
    "    plt.grid(True)"
   ]
  },
  {
   "cell_type": "markdown",
   "id": "d556badd",
   "metadata": {},
   "source": [
    "# GaussianNB Model"
   ]
  },
  {
   "cell_type": "code",
   "execution_count": 10,
   "id": "4e7b6b0b",
   "metadata": {},
   "outputs": [
    {
     "name": "stdout",
     "output_type": "stream",
     "text": [
      "Train data:\n",
      "               precision    recall  f1-score   support\n",
      "\n",
      "           0       0.86      0.80      0.83    183686\n",
      "           1       0.35      0.44      0.39     44327\n",
      "\n",
      "    accuracy                           0.73    228013\n",
      "   macro avg       0.60      0.62      0.61    228013\n",
      "weighted avg       0.76      0.73      0.74    228013\n",
      "\n",
      "Test data:\n",
      "               precision    recall  f1-score   support\n",
      "\n",
      "           0       0.85      0.80      0.82     78639\n",
      "           1       0.34      0.44      0.39     19081\n",
      "\n",
      "    accuracy                           0.73     97720\n",
      "   macro avg       0.60      0.62      0.61     97720\n",
      "weighted avg       0.75      0.73      0.74     97720\n",
      "\n"
     ]
    }
   ],
   "source": [
    "gnb = GaussianNB()\n",
    "gnb_model = gnb.fit(x_train, y_train)\n",
    "y_pred_gn=gnb_model.predict(x_test)\n",
    "\n",
    "train_report = get_train_report(gnb_model,x_train)\n",
    "print('Train data:\\n', train_report)\n",
    "\n",
    "test_report = get_test_report(gnb_model,x_test)\n",
    "print('Test data:\\n', test_report)"
   ]
  },
  {
   "cell_type": "code",
   "execution_count": 12,
   "id": "9a911a99",
   "metadata": {},
   "outputs": [
    {
     "data": {
      "image/png": "[encoded data removed]",
      "text/plain": [
       "<Figure size 432x432 with 2 Axes>"
      ]
     },
     "metadata": {
      "needs_background": "light"
     },
     "output_type": "display_data"
    }
   ],
   "source": [
    "plt.rcParams['figure.figsize']=[6,6]\n",
    "cm = confusion_matrix(y_test,y_pred_gn)\n",
    "ConfusionMatrixDisplay(cm).plot()\n",
    "plt.show()"
   ]
  },
  {
   "cell_type": "code",
   "execution_count": null,
   "id": "c55414d7",
   "metadata": {},
   "outputs": [],
   "source": [
    "# "
   ]
  },
  {
   "cell_type": "code",
   "execution_count": 11,
   "id": "9d745885",
   "metadata": {},
   "outputs": [
    {
     "data": {
      "image/png": "[encoded data removed]",
      "text/plain": [
       "<Figure size 432x432 with 1 Axes>"
      ]
     },
     "metadata": {
      "needs_background": "light"
     },
     "output_type": "display_data"
    }
   ],
   "source": [
    "plt.rcParams['figure.figsize']=[6,6]\n",
    "plot_roc(gnb_model,x_test)"
   ]
  },
  {
   "cell_type": "markdown",
   "id": "e1f539ec",
   "metadata": {},
   "source": [
    "# GaussianNB Model after tuning"
   ]
  },
  {
   "cell_type": "code",
   "execution_count": 16,
   "id": "2d146657",
   "metadata": {},
   "outputs": [],
   "source": [
    "kf=KFold(n_splits=3,shuffle=True,random_state=0)"
   ]
  },
  {
   "cell_type": "code",
   "execution_count": 24,
   "id": "b6b4e025",
   "metadata": {},
   "outputs": [
    {
     "name": "stdout",
     "output_type": "stream",
     "text": [
      "Fitting 3 folds for each of 200 candidates, totalling 600 fits\n"
     ]
    },
    {
     "data": {
      "text/html": [
       "<style>#sk-container-id-2 {color: black;background-color: white;}#sk-container-id-2 pre{padding: 0;}#sk-container-id-2 div.sk-toggleable {background-color: white;}#sk-container-id-2 label.sk-toggleable__label {cursor: pointer;display: block;width: 100%;margin-bottom: 0;padding: 0.3em;box-sizing: border-box;text-align: center;}#sk-container-id-2 label.sk-toggleable__label-arrow:before {content: \"▸\";float: left;margin-right: 0.25em;color: #696969;}#sk-container-id-2 label.sk-toggleable__label-arrow:hover:before {color: black;}#sk-container-id-2 div.sk-estimator:hover label.sk-toggleable__label-arrow:before {color: black;}#sk-container-id-2 div.sk-toggleable__content {max-height: 0;max-width: 0;overflow: hidden;text-align: left;background-color: #f0f8ff;}#sk-container-id-2 div.sk-toggleable__content pre {margin: 0.2em;color: black;border-radius: 0.25em;background-color: #f0f8ff;}#sk-container-id-2 input.sk-toggleable__control:checked~div.sk-toggleable__content {max-height: 200px;max-width: 100%;overflow: auto;}#sk-container-id-2 input.sk-toggleable__control:checked~label.sk-toggleable__label-arrow:before {content: \"▾\";}#sk-container-id-2 div.sk-estimator input.sk-toggleable__control:checked~label.sk-toggleable__label {background-color: #d4ebff;}#sk-container-id-2 div.sk-label input.sk-toggleable__control:checked~label.sk-toggleable__label {background-color: #d4ebff;}#sk-container-id-2 input.sk-hidden--visually {border: 0;clip: rect(1px 1px 1px 1px);clip: rect(1px, 1px, 1px, 1px);height: 1px;margin: -1px;overflow: hidden;padding: 0;position: absolute;width: 1px;}#sk-container-id-2 div.sk-estimator {font-family: monospace;background-color: #f0f8ff;border: 1px dotted black;border-radius: 0.25em;box-sizing: border-box;margin-bottom: 0.5em;}#sk-container-id-2 div.sk-estimator:hover {background-color: #d4ebff;}#sk-container-id-2 div.sk-parallel-item::after {content: \"\";width: 100%;border-bottom: 1px solid gray;flex-grow: 1;}#sk-container-id-2 div.sk-label:hover label.sk-toggleable__label {background-color: #d4ebff;}#sk-container-id-2 div.sk-serial::before {content: \"\";position: absolute;border-left: 1px solid gray;box-sizing: border-box;top: 0;bottom: 0;left: 50%;z-index: 0;}#sk-container-id-2 div.sk-serial {display: flex;flex-direction: column;align-items: center;background-color: white;padding-right: 0.2em;padding-left: 0.2em;position: relative;}#sk-container-id-2 div.sk-item {position: relative;z-index: 1;}#sk-container-id-2 div.sk-parallel {display: flex;align-items: stretch;justify-content: center;background-color: white;position: relative;}#sk-container-id-2 div.sk-item::before, #sk-container-id-2 div.sk-parallel-item::before {content: \"\";position: absolute;border-left: 1px solid gray;box-sizing: border-box;top: 0;bottom: 0;left: 50%;z-index: -1;}#sk-container-id-2 div.sk-parallel-item {display: flex;flex-direction: column;z-index: 1;position: relative;background-color: white;}#sk-container-id-2 div.sk-parallel-item:first-child::after {align-self: flex-end;width: 50%;}#sk-container-id-2 div.sk-parallel-item:last-child::after {align-self: flex-start;width: 50%;}#sk-container-id-2 div.sk-parallel-item:only-child::after {width: 0;}#sk-container-id-2 div.sk-dashed-wrapped {border: 1px dashed gray;margin: 0 0.4em 0.5em 0.4em;box-sizing: border-box;padding-bottom: 0.4em;background-color: white;}#sk-container-id-2 div.sk-label label {font-family: monospace;font-weight: bold;display: inline-block;line-height: 1.2em;}#sk-container-id-2 div.sk-label-container {text-align: center;}#sk-container-id-2 div.sk-container {/* jupyter's `normalize.less` sets `[hidden] { display: none; }` but bootstrap.min.css set `[hidden] { display: none !important; }` so we also need the `!important` here to be able to override the default hidden behavior on the sphinx rendered scikit-learn.org. See: https://github.com/scikit-learn/scikit-learn/issues/21755 */display: inline-block !important;position: relative;}#sk-container-id-2 div.sk-text-repr-fallback {display: none;}</style><div id=\"sk-container-id-2\" class=\"sk-top-container\"><div class=\"sk-text-repr-fallback\"><pre>GridSearchCV(cv=KFold(n_splits=3, random_state=0, shuffle=True),\n",
       "             estimator=GaussianNB(),\n",
       "             param_grid={&#x27;var_smoothing&#x27;: array([1.00000000e+00, 9.01101825e-01, 8.11984499e-01, 7.31680714e-01,\n",
       "       6.59318827e-01, 5.94113398e-01, 5.35356668e-01, 4.82410870e-01,\n",
       "       4.34701316e-01, 3.91710149e-01, 3.52970730e-01, 3.18062569e-01,\n",
       "       2.86606762e-01, 2.58261876e-01, 2.32720248e-01, 2.097...\n",
       "       1.09698580e-08, 9.88495905e-09, 8.90735464e-09, 8.02643352e-09,\n",
       "       7.23263390e-09, 6.51733960e-09, 5.87278661e-09, 5.29197874e-09,\n",
       "       4.76861170e-09, 4.29700470e-09, 3.87203878e-09, 3.48910121e-09,\n",
       "       3.14403547e-09, 2.83309610e-09, 2.55290807e-09, 2.30043012e-09,\n",
       "       2.07292178e-09, 1.86791360e-09, 1.68318035e-09, 1.51671689e-09,\n",
       "       1.36671636e-09, 1.23155060e-09, 1.10975250e-09, 1.00000000e-09])},\n",
       "             scoring=&#x27;recall&#x27;, verbose=1)</pre><b>In a Jupyter environment, please rerun this cell to show the HTML representation or trust the notebook. <br />On GitHub, the HTML representation is unable to render, please try loading this page with nbviewer.org.</b></div><div class=\"sk-container\" hidden><div class=\"sk-item sk-dashed-wrapped\"><div class=\"sk-label-container\"><div class=\"sk-label sk-toggleable\"><input class=\"sk-toggleable__control sk-hidden--visually\" id=\"sk-estimator-id-4\" type=\"checkbox\" ><label for=\"sk-estimator-id-4\" class=\"sk-toggleable__label sk-toggleable__label-arrow\">GridSearchCV</label><div class=\"sk-toggleable__content\"><pre>GridSearchCV(cv=KFold(n_splits=3, random_state=0, shuffle=True),\n",
       "             estimator=GaussianNB(),\n",
       "             param_grid={&#x27;var_smoothing&#x27;: array([1.00000000e+00, 9.01101825e-01, 8.11984499e-01, 7.31680714e-01,\n",
       "       6.59318827e-01, 5.94113398e-01, 5.35356668e-01, 4.82410870e-01,\n",
       "       4.34701316e-01, 3.91710149e-01, 3.52970730e-01, 3.18062569e-01,\n",
       "       2.86606762e-01, 2.58261876e-01, 2.32720248e-01, 2.097...\n",
       "       1.09698580e-08, 9.88495905e-09, 8.90735464e-09, 8.02643352e-09,\n",
       "       7.23263390e-09, 6.51733960e-09, 5.87278661e-09, 5.29197874e-09,\n",
       "       4.76861170e-09, 4.29700470e-09, 3.87203878e-09, 3.48910121e-09,\n",
       "       3.14403547e-09, 2.83309610e-09, 2.55290807e-09, 2.30043012e-09,\n",
       "       2.07292178e-09, 1.86791360e-09, 1.68318035e-09, 1.51671689e-09,\n",
       "       1.36671636e-09, 1.23155060e-09, 1.10975250e-09, 1.00000000e-09])},\n",
       "             scoring=&#x27;recall&#x27;, verbose=1)</pre></div></div></div><div class=\"sk-parallel\"><div class=\"sk-parallel-item\"><div class=\"sk-item\"><div class=\"sk-label-container\"><div class=\"sk-label sk-toggleable\"><input class=\"sk-toggleable__control sk-hidden--visually\" id=\"sk-estimator-id-5\" type=\"checkbox\" ><label for=\"sk-estimator-id-5\" class=\"sk-toggleable__label sk-toggleable__label-arrow\">estimator: GaussianNB</label><div class=\"sk-toggleable__content\"><pre>GaussianNB()</pre></div></div></div><div class=\"sk-serial\"><div class=\"sk-item\"><div class=\"sk-estimator sk-toggleable\"><input class=\"sk-toggleable__control sk-hidden--visually\" id=\"sk-estimator-id-6\" type=\"checkbox\" ><label for=\"sk-estimator-id-6\" class=\"sk-toggleable__label sk-toggleable__label-arrow\">GaussianNB</label><div class=\"sk-toggleable__content\"><pre>GaussianNB()</pre></div></div></div></div></div></div></div></div></div></div>"
      ],
      "text/plain": [
       "GridSearchCV(cv=KFold(n_splits=3, random_state=0, shuffle=True),\n",
       "             estimator=GaussianNB(),\n",
       "             param_grid={'var_smoothing': array([1.00000000e+00, 9.01101825e-01, 8.11984499e-01, 7.31680714e-01,\n",
       "       6.59318827e-01, 5.94113398e-01, 5.35356668e-01, 4.82410870e-01,\n",
       "       4.34701316e-01, 3.91710149e-01, 3.52970730e-01, 3.18062569e-01,\n",
       "       2.86606762e-01, 2.58261876e-01, 2.32720248e-01, 2.097...\n",
       "       1.09698580e-08, 9.88495905e-09, 8.90735464e-09, 8.02643352e-09,\n",
       "       7.23263390e-09, 6.51733960e-09, 5.87278661e-09, 5.29197874e-09,\n",
       "       4.76861170e-09, 4.29700470e-09, 3.87203878e-09, 3.48910121e-09,\n",
       "       3.14403547e-09, 2.83309610e-09, 2.55290807e-09, 2.30043012e-09,\n",
       "       2.07292178e-09, 1.86791360e-09, 1.68318035e-09, 1.51671689e-09,\n",
       "       1.36671636e-09, 1.23155060e-09, 1.10975250e-09, 1.00000000e-09])},\n",
       "             scoring='recall', verbose=1)"
      ]
     },
     "execution_count": 24,
     "metadata": {},
     "output_type": "execute_result"
    }
   ],
   "source": [
    "gb=GaussianNB()\n",
    "params_NB = {'var_smoothing': np.logspace(0,-9, num=200)}\n",
    "gs_NB = GridSearchCV(estimator=gb, param_grid=params_NB, cv=kf,verbose=1,scoring='recall')\n",
    "gs_NB.fit(x,y)"
   ]
  },
  {
   "cell_type": "code",
   "execution_count": 27,
   "id": "aa0aa4ba",
   "metadata": {},
   "outputs": [
    {
     "data": {
      "text/plain": [
       "{'var_smoothing': 7.149428986597577e-08}"
      ]
     },
     "execution_count": 27,
     "metadata": {},
     "output_type": "execute_result"
    }
   ],
   "source": [
    "gs_NB.best_params_"
   ]
  },
  {
   "cell_type": "code",
   "execution_count": 17,
   "id": "f8c317a7",
   "metadata": {},
   "outputs": [
    {
     "name": "stdout",
     "output_type": "stream",
     "text": [
      "Train data:\n",
      "               precision    recall  f1-score   support\n",
      "\n",
      "           0       0.86      0.80      0.83    183686\n",
      "           1       0.35      0.44      0.39     44327\n",
      "\n",
      "    accuracy                           0.73    228013\n",
      "   macro avg       0.60      0.62      0.61    228013\n",
      "weighted avg       0.76      0.73      0.74    228013\n",
      "\n",
      "Test data:\n",
      "               precision    recall  f1-score   support\n",
      "\n",
      "           0       0.85      0.80      0.82     78639\n",
      "           1       0.34      0.44      0.39     19081\n",
      "\n",
      "    accuracy                           0.73     97720\n",
      "   macro avg       0.60      0.62      0.61     97720\n",
      "weighted avg       0.75      0.73      0.74     97720\n",
      "\n"
     ]
    }
   ],
   "source": [
    "gnbt = GaussianNB(var_smoothing=7.149428986597577e-08)\n",
    "gnbt_model = gnbt.fit(x_train, y_train)\n",
    "y_pred_gntt=gnbt_model.predict(x_test)\n",
    "\n",
    "train_report = get_train_report(gnbt_model,x_train)\n",
    "print('Train data:\\n', train_report)\n",
    "\n",
    "test_report = get_test_report(gnbt_model,x_test)\n",
    "print('Test data:\\n', test_report)"
   ]
  },
  {
   "cell_type": "code",
   "execution_count": 18,
   "id": "5551415b",
   "metadata": {},
   "outputs": [
    {
     "data": {
      "image/png": "[encoded data removed]",
      "text/plain": [
       "<Figure size 432x432 with 2 Axes>"
      ]
     },
     "metadata": {
      "needs_background": "light"
     },
     "output_type": "display_data"
    }
   ],
   "source": [
    "plt.rcParams['figure.figsize']=[6,6]\n",
    "cm = confusion_matrix(y_test,y_pred_gntt)\n",
    "ConfusionMatrixDisplay(cm).plot()\n",
    "plt.show()"
   ]
  },
  {
   "cell_type": "code",
   "execution_count": null,
   "id": "3f8d1ee8",
   "metadata": {},
   "outputs": [],
   "source": []
  },
  {
   "cell_type": "markdown",
   "id": "d7e7878b",
   "metadata": {},
   "source": [
    "# KNeighbors Model after tuning"
   ]
  },
  {
   "cell_type": "code",
   "execution_count": 18,
   "id": "ba435e09",
   "metadata": {},
   "outputs": [
    {
     "data": {
      "text/plain": [
       "{'metric': 'minkowski', 'n_neighbors': 15, 'weights': 'uniform'}"
      ]
     },
     "execution_count": 18,
     "metadata": {},
     "output_type": "execute_result"
    }
   ],
   "source": [
    "knn = KNeighborsClassifier(algorithm='auto')\n",
    "parameters_KNN = {'n_neighbors' : [5,7,9,11,13,15],\n",
    "               'weights' : ['uniform','distance'],\n",
    "               'metric' : ['minkowski','euclidea']\n",
    "     }\n",
    "                   \n",
    "# with GridSearch\n",
    "grid_knn = GridSearchCV(estimator=knn,\n",
    "    param_grid=parameters_KNN,\n",
    "    n_jobs = -1,\n",
    "    cv = kf)\n",
    "\n",
    "    \n",
    "grid_knn.fit(x_train, y_train)\n",
    "\n",
    "grid_knn.best_params_"
   ]
  },
  {
   "cell_type": "code",
   "execution_count": 19,
   "id": "3528476c",
   "metadata": {},
   "outputs": [
    {
     "name": "stdout",
     "output_type": "stream",
     "text": [
      "Train data:\n",
      "               precision    recall  f1-score   support\n",
      "\n",
      "           0       0.82      0.98      0.90    183686\n",
      "           1       0.61      0.13      0.22     44327\n",
      "\n",
      "    accuracy                           0.82    228013\n",
      "   macro avg       0.72      0.56      0.56    228013\n",
      "weighted avg       0.78      0.82      0.76    228013\n",
      "\n",
      "Test data:\n",
      "               precision    recall  f1-score   support\n",
      "\n",
      "           0       0.82      0.97      0.89     78639\n",
      "           1       0.45      0.10      0.16     19081\n",
      "\n",
      "    accuracy                           0.80     97720\n",
      "   macro avg       0.63      0.54      0.53     97720\n",
      "weighted avg       0.75      0.80      0.75     97720\n",
      "\n"
     ]
    }
   ],
   "source": [
    "knn_hy = KNeighborsClassifier(n_neighbors=15,\n",
    "                 metric='minkowski',\n",
    "                 weights='uniform')\n",
    "knn_model = knn_hy.fit(x_train, y_train)\n",
    "y_pred_knt=knn_model.predict(x_test)\n",
    "\n",
    "train_report = get_train_report(knn_model,x_train)\n",
    "print('Train data:\\n', train_report)\n",
    "\n",
    "test_report = get_test_report(knn_model,x_test)\n",
    "print('Test data:\\n', test_report)"
   ]
  },
  {
   "cell_type": "code",
   "execution_count": 15,
   "id": "51a4b9fe",
   "metadata": {},
   "outputs": [
    {
     "data": {
      "image/png": "[encoded data removed]",
      "text/plain": [
       "<Figure size 432x432 with 2 Axes>"
      ]
     },
     "metadata": {
      "needs_background": "light"
     },
     "output_type": "display_data"
    }
   ],
   "source": [
    "plt.rcParams['figure.figsize']=[6,6]\n",
    "cm = confusion_matrix(y_test,y_pred_knt)\n",
    "ConfusionMatrixDisplay(cm).plot()\n",
    "plt.show()"
   ]
  },
  {
   "cell_type": "markdown",
   "id": "b23b1006",
   "metadata": {},
   "source": [
    "# Boosting Models"
   ]
  },
  {
   "cell_type": "markdown",
   "id": "620f9ed0",
   "metadata": {},
   "source": [
    "# XG Boost using RFE"
   ]
  },
  {
   "cell_type": "code",
   "execution_count": 11,
   "id": "fe1bde93",
   "metadata": {},
   "outputs": [
    {
     "name": "stdout",
     "output_type": "stream",
     "text": [
      "Index(['grade', 'term_ 60 months', 'verification_status_Source Verified',\n",
      "       'verification_status_Verified', 'application_type_INDIVIDUAL',\n",
      "       'home_ownership_RENT', 'purpose_small_business', 'loan_amnt',\n",
      "       'int_rate', 'annual_inc', 'dti', 'mort_acc'],\n",
      "      dtype='object')\n"
     ]
    }
   ],
   "source": [
    "# initiate linear regression model to use in feature selection\n",
    "xgboost_rfe = XGBClassifier(learning_rate=0.1, gamma = 1)\n",
    "\n",
    "# build the RFE model\n",
    "\n",
    "rfe_model = RFE(estimator=xgboost_rfe, n_features_to_select = 12)\n",
    "\n",
    "# fit the RFE model on the training dataset using fit()\n",
    "rfe_model = rfe_model.fit(x_train, y_train)\n",
    "\n",
    "# create a series containing feature and its corresponding rank obtained from RFE\n",
    "# 'ranking_' returns the rank of each variable after applying RFE\n",
    "\n",
    "feat_index = pd.Series(data = rfe_model.ranking_, index = x_train.columns)\n",
    "\n",
    "# select the features with rank = 1\n",
    "# 'index' returns the indices of a series (i.e. features with rank=1) \n",
    "signi_feat_rfe = feat_index[feat_index==1].index\n",
    "\n",
    "# print the significant features obtained from RFE\n",
    "print(signi_feat_rfe)"
   ]
  },
  {
   "cell_type": "code",
   "execution_count": 21,
   "id": "eefb499f",
   "metadata": {
    "scrolled": true
   },
   "outputs": [
    {
     "name": "stdout",
     "output_type": "stream",
     "text": [
      "Train data:\n",
      "               precision    recall  f1-score   support\n",
      "\n",
      "           0       0.83      0.99      0.90    183686\n",
      "           1       0.79      0.14      0.24     44327\n",
      "\n",
      "    accuracy                           0.83    228013\n",
      "   macro avg       0.81      0.57      0.57    228013\n",
      "weighted avg       0.82      0.83      0.77    228013\n",
      "\n",
      "Test data:\n",
      "               precision    recall  f1-score   support\n",
      "\n",
      "           0       0.82      0.98      0.89     78639\n",
      "           1       0.53      0.09      0.15     19081\n",
      "\n",
      "    accuracy                           0.81     97720\n",
      "   macro avg       0.67      0.53      0.52     97720\n",
      "weighted avg       0.76      0.81      0.75     97720\n",
      "\n"
     ]
    }
   ],
   "source": [
    "new_X_train = x_train[['grade', 'term_ 60 months', 'verification_status_Source Verified',\n",
    "       'verification_status_Verified', 'application_type_INDIVIDUAL',\n",
    "       'home_ownership_RENT', 'purpose_small_business', 'loan_amnt',\n",
    "       'int_rate', 'annual_inc', 'dti', 'mort_acc']]\n",
    "# store the X_train with significant variables in new_X_test\n",
    "new_X_test = x_test[['grade', 'term_ 60 months', 'verification_status_Source Verified',\n",
    "       'verification_status_Verified', 'application_type_INDIVIDUAL',\n",
    "       'home_ownership_RENT', 'purpose_small_business', 'loan_amnt',\n",
    "       'int_rate', 'annual_inc', 'dti', 'mort_acc']]\n",
    "\n",
    "\n",
    "xgb_model = XGBClassifier(learning_rate=0.1,max_depth = 10, gamma = 1)\n",
    "xgb_model.fit(new_X_train, y_train)\n",
    "y_pred_xg=xgb_model.predict(new_X_test)\n",
    "\n",
    "train_report = get_train_report(xgb_model,new_X_train)\n",
    "print('Train data:\\n', train_report)\n",
    "\n",
    "test_report = get_test_report(xgb_model,new_X_test)\n",
    "print('Test data:\\n', test_report)"
   ]
  },
  {
   "cell_type": "markdown",
   "id": "e839907e",
   "metadata": {},
   "source": [
    "# XG Boost after oversampling"
   ]
  },
  {
   "cell_type": "code",
   "execution_count": 26,
   "id": "4b770379",
   "metadata": {},
   "outputs": [],
   "source": [
    "from imblearn.over_sampling import RandomOverSampler\n"
   ]
  },
  {
   "cell_type": "code",
   "execution_count": null,
   "id": "6160ea3e",
   "metadata": {},
   "outputs": [],
   "source": [
    "ros=RandomOverSampler(random_state=10,sampling_strategy=0.25)\n",
    "X_train_resampled,y_train_resampled=ros.fit_resample(new_X_train,y_train)"
   ]
  },
  {
   "cell_type": "code",
   "execution_count": 28,
   "id": "e7f9c1cb",
   "metadata": {},
   "outputs": [
    {
     "name": "stdout",
     "output_type": "stream",
     "text": [
      "Train data:\n",
      "               precision    recall  f1-score   support\n",
      "\n",
      "           0       0.94      0.78      0.86    183686\n",
      "           1       0.47      0.80      0.59     44327\n",
      "\n",
      "    accuracy                           0.79    228013\n",
      "   macro avg       0.71      0.79      0.72    228013\n",
      "weighted avg       0.85      0.79      0.80    228013\n",
      "\n",
      "Test data:\n",
      "               precision    recall  f1-score   support\n",
      "\n",
      "           0       0.87      0.73      0.79     78639\n",
      "           1       0.33      0.56      0.42     19081\n",
      "\n",
      "    accuracy                           0.69     97720\n",
      "   macro avg       0.60      0.64      0.61     97720\n",
      "weighted avg       0.77      0.69      0.72     97720\n",
      "\n"
     ]
    }
   ],
   "source": [
    "xgb_model_resampled = XGBClassifier(learning_rate=0.1,max_depth = 12, gamma = 1)\n",
    "\n",
    "# fit the model using fit() on train data\n",
    "xgb_model_resampled.fit(X_train_resampled, y_train_resampled)\n",
    "\n",
    "# compute the performance measures on train data\n",
    "train_report = get_train_report(xgb_model_resampled,new_X_train)\n",
    "\n",
    "# print the performance measures\n",
    "print('Train data:\\n', train_report)\n",
    "\n",
    "# compute the performance measures on test data\n",
    "test_report = get_test_report(xgb_model_resampled,new_X_test)\n",
    "\n",
    "# print the performance measures\n",
    "print('Test data:\\n', test_report)"
   ]
  },
  {
   "cell_type": "markdown",
   "id": "a5b3e6b6",
   "metadata": {},
   "source": [
    "# XG Boost after tuning"
   ]
  },
  {
   "cell_type": "code",
   "execution_count": null,
   "id": "dcbe37eb",
   "metadata": {},
   "outputs": [],
   "source": [
    "tuning_parameters = {'learning_rate': [0.1, 0.2, 0.3, 0.4, 0.5, 0.6],\n",
    "                     'max_depth': range(3,10),\n",
    "                     'min_child_weight':range(1,5),\n",
    "                     'gamma': [0, 1, 2, 3, 4],\n",
    "                    'tree_method':['gpu_hist','hist'],\n",
    "                     'subsample':[0.25,0.5,1],\n",
    "                     'colsample_bytree':[0.25,0.5,1]\n",
    "                    }\n",
    "\n",
    "\n",
    "# instantiate the 'XGBClassifier' \n",
    "xgb_model = XGBClassifier()\n",
    "\n",
    "\n",
    "xgb_grid = GridSearchCV(estimator = xgb_model, param_grid = tuning_parameters, cv =kf)\n",
    "\n",
    "# fit the model on X_train and y_train using fit()\n",
    "xgb_grid.fit(xtrain, ytrain)\n",
    "\n",
    "# get the best parameters\n",
    "print('Best parameters for XGBoost classifier: ', xgb_grid.best_params_, '\\n')"
   ]
  },
  {
   "cell_type": "raw",
   "id": "fcf636d2",
   "metadata": {},
   "source": [
    " Best parameters for XGBoost classifier: \n",
    "\n",
    "colsample_bytree= 1, gamma= 1, learning_rate= 0.2, \n",
    "max_depth=4, min_child_weight= 4, subsample= 1, tree_method= 'hist'"
   ]
  },
  {
   "cell_type": "code",
   "execution_count": 7,
   "id": "0e775bb5",
   "metadata": {},
   "outputs": [],
   "source": [
    "xgb_model_hy = XGBClassifier(colsample_bytree= 1, gamma= 1,\n",
    "learning_rate= 0.4, max_depth=4, min_child_weight=4, subsample=1, \n",
    "                                          tree_method='hist')"
   ]
  },
  {
   "cell_type": "code",
   "execution_count": 13,
   "id": "65c55c1c",
   "metadata": {},
   "outputs": [
    {
     "name": "stdout",
     "output_type": "stream",
     "text": [
      "Train data:\n",
      "               precision    recall  f1-score   support\n",
      "\n",
      "           0       0.82      0.99      0.89    183686\n",
      "           1       0.61      0.09      0.16     44327\n",
      "\n",
      "    accuracy                           0.81    228013\n",
      "   macro avg       0.71      0.54      0.53    228013\n",
      "weighted avg       0.78      0.81      0.75    228013\n",
      "\n",
      "Test data:\n",
      "               precision    recall  f1-score   support\n",
      "\n",
      "           0       0.82      0.98      0.89     78639\n",
      "           1       0.55      0.08      0.15     19081\n",
      "\n",
      "    accuracy                           0.81     97720\n",
      "   macro avg       0.68      0.53      0.52     97720\n",
      "weighted avg       0.76      0.81      0.75     97720\n",
      "\n"
     ]
    }
   ],
   "source": [
    "\n",
    "xgb_model_hy.fit(x_train, y_train)\n",
    "y_pred_x=xgb_model_hy.predict(x_test)\n",
    "\n",
    "train_report = get_train_report(xgb_model_hy,x_train)\n",
    "print('Train data:\\n', train_report)\n",
    "\n",
    "test_report = get_test_report(xgb_model_hy,x_test)\n",
    "print('Test data:\\n', test_report)"
   ]
  },
  {
   "cell_type": "code",
   "execution_count": 14,
   "id": "b2dd1750",
   "metadata": {},
   "outputs": [
    {
     "data": {
      "image/png": "[encoded data removed]",
      "text/plain": [
       "<Figure size 720x720 with 1 Axes>"
      ]
     },
     "metadata": {
      "needs_background": "light"
     },
     "output_type": "display_data"
    }
   ],
   "source": [
    "plt.rcParams['figure.figsize']=(10,10)\n",
    "important_features = pd.DataFrame({'Features': x_train.columns, \n",
    "                                   'Importance': xgb_model_hy.feature_importances_})\n",
    "\n",
    "# sort the dataframe in the descending order according to the feature importance\n",
    "important_features = important_features.sort_values('Importance', ascending = False)\n",
    "\n",
    "# create a barplot to visualize the features based on their importance\n",
    "sns.barplot(x = 'Importance', y = 'Features', data = important_features)\n",
    "\n",
    "# add plot and axes labels\n",
    "# set text size using 'fontsize'\n",
    "plt.title('Feature Importance', fontsize = 15)\n",
    "plt.xlabel('Importance', fontsize = 15)\n",
    "plt.ylabel('Features', fontsize = 15)\n",
    "\n",
    "# display the plot\n",
    "plt.show()"
   ]
  },
  {
   "cell_type": "markdown",
   "id": "7ef45498",
   "metadata": {},
   "source": [
    "# Stack model(randomforest,knn,baysmodel)"
   ]
  },
  {
   "cell_type": "code",
   "execution_count": 30,
   "id": "53856e5e",
   "metadata": {},
   "outputs": [
    {
     "data": {
      "text/html": [
       "<style>#sk-container-id-3 {color: black;background-color: white;}#sk-container-id-3 pre{padding: 0;}#sk-container-id-3 div.sk-toggleable {background-color: white;}#sk-container-id-3 label.sk-toggleable__label {cursor: pointer;display: block;width: 100%;margin-bottom: 0;padding: 0.3em;box-sizing: border-box;text-align: center;}#sk-container-id-3 label.sk-toggleable__label-arrow:before {content: \"▸\";float: left;margin-right: 0.25em;color: #696969;}#sk-container-id-3 label.sk-toggleable__label-arrow:hover:before {color: black;}#sk-container-id-3 div.sk-estimator:hover label.sk-toggleable__label-arrow:before {color: black;}#sk-container-id-3 div.sk-toggleable__content {max-height: 0;max-width: 0;overflow: hidden;text-align: left;background-color: #f0f8ff;}#sk-container-id-3 div.sk-toggleable__content pre {margin: 0.2em;color: black;border-radius: 0.25em;background-color: #f0f8ff;}#sk-container-id-3 input.sk-toggleable__control:checked~div.sk-toggleable__content {max-height: 200px;max-width: 100%;overflow: auto;}#sk-container-id-3 input.sk-toggleable__control:checked~label.sk-toggleable__label-arrow:before {content: \"▾\";}#sk-container-id-3 div.sk-estimator input.sk-toggleable__control:checked~label.sk-toggleable__label {background-color: #d4ebff;}#sk-container-id-3 div.sk-label input.sk-toggleable__control:checked~label.sk-toggleable__label {background-color: #d4ebff;}#sk-container-id-3 input.sk-hidden--visually {border: 0;clip: rect(1px 1px 1px 1px);clip: rect(1px, 1px, 1px, 1px);height: 1px;margin: -1px;overflow: hidden;padding: 0;position: absolute;width: 1px;}#sk-container-id-3 div.sk-estimator {font-family: monospace;background-color: #f0f8ff;border: 1px dotted black;border-radius: 0.25em;box-sizing: border-box;margin-bottom: 0.5em;}#sk-container-id-3 div.sk-estimator:hover {background-color: #d4ebff;}#sk-container-id-3 div.sk-parallel-item::after {content: \"\";width: 100%;border-bottom: 1px solid gray;flex-grow: 1;}#sk-container-id-3 div.sk-label:hover label.sk-toggleable__label {background-color: #d4ebff;}#sk-container-id-3 div.sk-serial::before {content: \"\";position: absolute;border-left: 1px solid gray;box-sizing: border-box;top: 0;bottom: 0;left: 50%;z-index: 0;}#sk-container-id-3 div.sk-serial {display: flex;flex-direction: column;align-items: center;background-color: white;padding-right: 0.2em;padding-left: 0.2em;position: relative;}#sk-container-id-3 div.sk-item {position: relative;z-index: 1;}#sk-container-id-3 div.sk-parallel {display: flex;align-items: stretch;justify-content: center;background-color: white;position: relative;}#sk-container-id-3 div.sk-item::before, #sk-container-id-3 div.sk-parallel-item::before {content: \"\";position: absolute;border-left: 1px solid gray;box-sizing: border-box;top: 0;bottom: 0;left: 50%;z-index: -1;}#sk-container-id-3 div.sk-parallel-item {display: flex;flex-direction: column;z-index: 1;position: relative;background-color: white;}#sk-container-id-3 div.sk-parallel-item:first-child::after {align-self: flex-end;width: 50%;}#sk-container-id-3 div.sk-parallel-item:last-child::after {align-self: flex-start;width: 50%;}#sk-container-id-3 div.sk-parallel-item:only-child::after {width: 0;}#sk-container-id-3 div.sk-dashed-wrapped {border: 1px dashed gray;margin: 0 0.4em 0.5em 0.4em;box-sizing: border-box;padding-bottom: 0.4em;background-color: white;}#sk-container-id-3 div.sk-label label {font-family: monospace;font-weight: bold;display: inline-block;line-height: 1.2em;}#sk-container-id-3 div.sk-label-container {text-align: center;}#sk-container-id-3 div.sk-container {/* jupyter's `normalize.less` sets `[hidden] { display: none; }` but bootstrap.min.css set `[hidden] { display: none !important; }` so we also need the `!important` here to be able to override the default hidden behavior on the sphinx rendered scikit-learn.org. See: https://github.com/scikit-learn/scikit-learn/issues/21755 */display: inline-block !important;position: relative;}#sk-container-id-3 div.sk-text-repr-fallback {display: none;}</style><div id=\"sk-container-id-3\" class=\"sk-top-container\"><div class=\"sk-text-repr-fallback\"><pre>StackingClassifier(estimators=[(&#x27;dc_model&#x27;,\n",
       "                                DecisionTreeClassifier(criterion=&#x27;entropy&#x27;,\n",
       "                                                       max_depth=2,\n",
       "                                                       max_features=&#x27;sqrt&#x27;,\n",
       "                                                       max_leaf_nodes=2,\n",
       "                                                       min_samples_split=1,\n",
       "                                                       random_state=10)),\n",
       "                               (&#x27;KNN_model&#x27;,\n",
       "                                KNeighborsClassifier(metric=&#x27;euclidean&#x27;,\n",
       "                                                     n_neighbors=17)),\n",
       "                               (&#x27;NB_model&#x27;, GaussianNB())],\n",
       "                   final_estimator=GaussianNB())</pre><b>In a Jupyter environment, please rerun this cell to show the HTML representation or trust the notebook. <br />On GitHub, the HTML representation is unable to render, please try loading this page with nbviewer.org.</b></div><div class=\"sk-container\" hidden><div class=\"sk-item sk-dashed-wrapped\"><div class=\"sk-label-container\"><div class=\"sk-label sk-toggleable\"><input class=\"sk-toggleable__control sk-hidden--visually\" id=\"sk-estimator-id-7\" type=\"checkbox\" ><label for=\"sk-estimator-id-7\" class=\"sk-toggleable__label sk-toggleable__label-arrow\">StackingClassifier</label><div class=\"sk-toggleable__content\"><pre>StackingClassifier(estimators=[(&#x27;dc_model&#x27;,\n",
       "                                DecisionTreeClassifier(criterion=&#x27;entropy&#x27;,\n",
       "                                                       max_depth=2,\n",
       "                                                       max_features=&#x27;sqrt&#x27;,\n",
       "                                                       max_leaf_nodes=2,\n",
       "                                                       min_samples_split=1,\n",
       "                                                       random_state=10)),\n",
       "                               (&#x27;KNN_model&#x27;,\n",
       "                                KNeighborsClassifier(metric=&#x27;euclidean&#x27;,\n",
       "                                                     n_neighbors=17)),\n",
       "                               (&#x27;NB_model&#x27;, GaussianNB())],\n",
       "                   final_estimator=GaussianNB())</pre></div></div></div><div class=\"sk-serial\"><div class=\"sk-item\"><div class=\"sk-parallel\"><div class=\"sk-parallel-item\"><div class=\"sk-item\"><div class=\"sk-label-container\"><div class=\"sk-label sk-toggleable\"><label>dc_model</label></div></div><div class=\"sk-serial\"><div class=\"sk-item\"><div class=\"sk-estimator sk-toggleable\"><input class=\"sk-toggleable__control sk-hidden--visually\" id=\"sk-estimator-id-8\" type=\"checkbox\" ><label for=\"sk-estimator-id-8\" class=\"sk-toggleable__label sk-toggleable__label-arrow\">DecisionTreeClassifier</label><div class=\"sk-toggleable__content\"><pre>DecisionTreeClassifier(criterion=&#x27;entropy&#x27;, max_depth=2, max_features=&#x27;sqrt&#x27;,\n",
       "                       max_leaf_nodes=2, min_samples_split=1, random_state=10)</pre></div></div></div></div></div></div><div class=\"sk-parallel-item\"><div class=\"sk-item\"><div class=\"sk-label-container\"><div class=\"sk-label sk-toggleable\"><label>KNN_model</label></div></div><div class=\"sk-serial\"><div class=\"sk-item\"><div class=\"sk-estimator sk-toggleable\"><input class=\"sk-toggleable__control sk-hidden--visually\" id=\"sk-estimator-id-9\" type=\"checkbox\" ><label for=\"sk-estimator-id-9\" class=\"sk-toggleable__label sk-toggleable__label-arrow\">KNeighborsClassifier</label><div class=\"sk-toggleable__content\"><pre>KNeighborsClassifier(metric=&#x27;euclidean&#x27;, n_neighbors=17)</pre></div></div></div></div></div></div><div class=\"sk-parallel-item\"><div class=\"sk-item\"><div class=\"sk-label-container\"><div class=\"sk-label sk-toggleable\"><label>NB_model</label></div></div><div class=\"sk-serial\"><div class=\"sk-item\"><div class=\"sk-estimator sk-toggleable\"><input class=\"sk-toggleable__control sk-hidden--visually\" id=\"sk-estimator-id-10\" type=\"checkbox\" ><label for=\"sk-estimator-id-10\" class=\"sk-toggleable__label sk-toggleable__label-arrow\">GaussianNB</label><div class=\"sk-toggleable__content\"><pre>GaussianNB()</pre></div></div></div></div></div></div></div></div><div class=\"sk-item\"><div class=\"sk-parallel\"><div class=\"sk-parallel-item\"><div class=\"sk-item\"><div class=\"sk-label-container\"><div class=\"sk-label sk-toggleable\"><label>final_estimator</label></div></div><div class=\"sk-serial\"><div class=\"sk-item\"><div class=\"sk-estimator sk-toggleable\"><input class=\"sk-toggleable__control sk-hidden--visually\" id=\"sk-estimator-id-11\" type=\"checkbox\" ><label for=\"sk-estimator-id-11\" class=\"sk-toggleable__label sk-toggleable__label-arrow\">GaussianNB</label><div class=\"sk-toggleable__content\"><pre>GaussianNB()</pre></div></div></div></div></div></div></div></div></div></div></div></div>"
      ],
      "text/plain": [
       "StackingClassifier(estimators=[('dc_model',\n",
       "                                DecisionTreeClassifier(criterion='entropy',\n",
       "                                                       max_depth=2,\n",
       "                                                       max_features='sqrt',\n",
       "                                                       max_leaf_nodes=2,\n",
       "                                                       min_samples_split=1,\n",
       "                                                       random_state=10)),\n",
       "                               ('KNN_model',\n",
       "                                KNeighborsClassifier(metric='euclidean',\n",
       "                                                     n_neighbors=17)),\n",
       "                               ('NB_model', GaussianNB())],\n",
       "                   final_estimator=GaussianNB())"
      ]
     },
     "execution_count": 30,
     "metadata": {},
     "output_type": "execute_result"
    }
   ],
   "source": [
    "# consider the various algorithms as base learners\n",
    "base_learners = [('dc_model', DecisionTreeClassifier(criterion = 'entropy', max_depth = 2, max_features = 'sqrt', \n",
    "                                                     max_leaf_nodes = 2, min_samples_leaf = 1, min_samples_split = 1, \n",
    "                                                      random_state = 10)),\n",
    "                 ('KNN_model', KNeighborsClassifier(n_neighbors = 17, metric = 'euclidean')),\n",
    "                 ('NB_model', GaussianNB())]\n",
    "\n",
    "# initialize stacking classifier \n",
    "# pass the base learners to the parameter, 'estimators'\n",
    "# pass the Naive Bayes model as the 'final_estimator'/ meta model\n",
    "stack_model = StackingClassifier(estimators = base_learners, final_estimator = GaussianNB())\n",
    "\n",
    "# fit the model on train dataset\n",
    "stack_model.fit(x_train, y_train)"
   ]
  },
  {
   "cell_type": "code",
   "execution_count": 31,
   "id": "e0c0b4b4",
   "metadata": {},
   "outputs": [],
   "source": [
    "y_pred_st=stack_model.predict(x_test)"
   ]
  },
  {
   "cell_type": "code",
   "execution_count": 32,
   "id": "f2ea1429",
   "metadata": {},
   "outputs": [
    {
     "name": "stdout",
     "output_type": "stream",
     "text": [
      "Train data:\n",
      "               precision    recall  f1-score   support\n",
      "\n",
      "           0       0.85      0.91      0.88    183686\n",
      "           1       0.46      0.31      0.37     44327\n",
      "\n",
      "    accuracy                           0.80    228013\n",
      "   macro avg       0.65      0.61      0.63    228013\n",
      "weighted avg       0.77      0.80      0.78    228013\n",
      "\n",
      "Test data:\n",
      "               precision    recall  f1-score   support\n",
      "\n",
      "           0       0.84      0.90      0.87     78639\n",
      "           1       0.41      0.28      0.33     19081\n",
      "\n",
      "    accuracy                           0.78     97720\n",
      "   macro avg       0.62      0.59      0.60     97720\n",
      "weighted avg       0.75      0.78      0.76     97720\n",
      "\n"
     ]
    }
   ],
   "source": [
    "train_report = get_train_report(stack_model,x_train)\n",
    "\n",
    "# print the performance measures\n",
    "print('Train data:\\n', train_report)\n",
    "\n",
    "# compute the performance measures on test data\n",
    "test_report = get_test_report(stack_model,x_test)\n",
    "\n",
    "# print the performance measures\n",
    "print('Test data:\\n', test_report)"
   ]
  },
  {
   "cell_type": "code",
   "execution_count": 34,
   "id": "11debaa9",
   "metadata": {},
   "outputs": [
    {
     "data": {
      "image/png": "[encoded data removed]",
      "text/plain": [
       "<Figure size 576x576 with 2 Axes>"
      ]
     },
     "metadata": {
      "needs_background": "light"
     },
     "output_type": "display_data"
    }
   ],
   "source": [
    "plt.rcParams['figure.figsize']=[8,8]\n",
    "cm = confusion_matrix(y_test,y_pred_st)\n",
    "ConfusionMatrixDisplay(cm).plot()\n",
    "plt.show()"
   ]
  },
  {
   "cell_type": "code",
   "execution_count": 35,
   "id": "23f31939",
   "metadata": {},
   "outputs": [
    {
     "data": {
      "image/png": "[encoded data removed]",
      "text/plain": [
       "<Figure size 576x576 with 1 Axes>"
      ]
     },
     "metadata": {
      "needs_background": "light"
     },
     "output_type": "display_data"
    }
   ],
   "source": [
    "plot_roc(stack_model,x_test)"
   ]
  },
  {
   "cell_type": "code",
   "execution_count": null,
   "id": "7e12df50",
   "metadata": {},
   "outputs": [],
   "source": []
  }
 ],
 "metadata": {
  "kernelspec": {
   "display_name": "Python 3 (ipykernel)",
   "language": "python",
   "name": "python3"
  },
  "language_info": {
   "codemirror_mode": {
    "name": "ipython",
    "version": 3
   },
   "file_extension": ".py",
   "mimetype": "text/x-python",
   "name": "python",
   "nbconvert_exporter": "python",
   "pygments_lexer": "ipython3",
   "version": "3.9.12"
  }
 },
 "nbformat": 4,
 "nbformat_minor": 5
}
